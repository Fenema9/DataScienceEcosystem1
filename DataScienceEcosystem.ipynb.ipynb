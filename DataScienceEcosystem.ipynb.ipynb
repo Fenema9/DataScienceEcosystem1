{
 "cells": [
  {
   "cell_type": "markdown",
   "id": "c1b8ec4b-15f9-4696-95b1-edec0f10c8e6",
   "metadata": {},
   "source": [
    "# Data Science Tools and Ecosystem"
   ]
  },
  {
   "cell_type": "markdown",
   "id": "61db170a-bd36-46c5-a737-b8b5c70c1394",
   "metadata": {
    "tags": []
   },
   "source": [
    "#In this notebook, Data Science Tools and Ecosystem are summarized."
   ]
  },
  {
   "cell_type": "markdown",
   "id": "9f9b8450-9a8c-448a-86b4-6151d8b8611f",
   "metadata": {},
   "source": [
    "Some of the popular languages that Data Scientists use are:\n"
   ]
  },
  {
   "cell_type": "markdown",
   "id": "ffc90534-5028-49c6-9fbc-c6da905876d5",
   "metadata": {},
   "source": [
    "1. Python\n",
    "2. R\n",
    "3. SQL"
   ]
  },
  {
   "cell_type": "markdown",
   "id": "c4e7d97d-22e2-4b2e-84ae-36bdba7deb64",
   "metadata": {},
   "source": [
    "Some of the commonly used libraries used by Data Scientists include:"
   ]
  },
  {
   "cell_type": "markdown",
   "id": "8a929159-45a2-4b36-8d5e-87adc99ad71c",
   "metadata": {},
   "source": [
    "1. Keras\n",
    "2. Numpy\n",
    "3. Plotly"
   ]
  },
  {
   "cell_type": "markdown",
   "id": "935ad9f5-5cae-48ba-8c58-f16c11dd5c9b",
   "metadata": {},
   "source": [
    "| Data Science Tools |\n",
    "| ------------------ |\n",
    "| RStudio |\n",
    "| Jupyter |\n",
    "| Tableau |\n"
   ]
  },
  {
   "cell_type": "markdown",
   "id": "d6703fc5-1e57-4855-b646-3a3933116fc5",
   "metadata": {},
   "source": [
    "### Below are a few examples of evaluating arithmetic expressions in Python"
   ]
  },
  {
   "cell_type": "code",
   "execution_count": 2,
   "id": "15a0f3e1-f58c-4370-be24-cd4ddbeae49d",
   "metadata": {
    "tags": []
   },
   "outputs": [
    {
     "data": {
      "text/plain": [
       "17"
      ]
     },
     "execution_count": 2,
     "metadata": {},
     "output_type": "execute_result"
    }
   ],
   "source": [
    "# This a simple arithmetic expression to mutiply then add integers\n",
    "(3*4)+5\n"
   ]
  },
  {
   "cell_type": "code",
   "execution_count": 3,
   "id": "17712e1e-3fba-4a4e-b1d8-f9ad175daab5",
   "metadata": {
    "tags": []
   },
   "outputs": [
    {
     "data": {
      "text/plain": [
       "3.3333333333333335"
      ]
     },
     "execution_count": 3,
     "metadata": {},
     "output_type": "execute_result"
    }
   ],
   "source": [
    "# This will convert 200 minutes to hours by diving by 60.\n",
    "200/60"
   ]
  },
  {
   "cell_type": "markdown",
   "id": "33b268e7-16d9-4c9d-a451-faf1051070b4",
   "metadata": {
    "tags": []
   },
   "source": [
    "**Objetives:**\n",
    "+ C++\n",
    "+ Python\n",
    "+ Java"
   ]
  },
  {
   "cell_type": "markdown",
   "id": "cf02496b-4746-4c55-96c8-908ec127f175",
   "metadata": {},
   "source": [
    "## Author Marina Bermúdez"
   ]
  },
  {
   "cell_type": "code",
   "execution_count": null,
   "id": "fe39266d-8e89-43dc-a348-65ec9315b962",
   "metadata": {},
   "outputs": [],
   "source": []
  }
 ],
 "metadata": {
  "kernelspec": {
   "display_name": "Python",
   "language": "python",
   "name": "conda-env-python-py"
  },
  "language_info": {
   "codemirror_mode": {
    "name": "ipython",
    "version": 3
   },
   "file_extension": ".py",
   "mimetype": "text/x-python",
   "name": "python",
   "nbconvert_exporter": "python",
   "pygments_lexer": "ipython3",
   "version": "3.7.12"
  }
 },
 "nbformat": 4,
 "nbformat_minor": 5
}
